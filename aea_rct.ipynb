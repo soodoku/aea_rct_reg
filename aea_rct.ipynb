{
 "cells": [
  {
   "cell_type": "code",
   "execution_count": 9,
   "id": "3ba26864-3c63-4ad3-a083-04bbc7077ed5",
   "metadata": {},
   "outputs": [],
   "source": [
    "import ipywidgets as widgets\n",
    "from IPython.display import display, clear_output\n",
    "import pandas as pd\n",
    "import json\n",
    "import time\n",
    "import re"
   ]
  },
  {
   "cell_type": "code",
   "execution_count": 10,
   "id": "304106c6-056b-45a7-841a-d5044e7a47bc",
   "metadata": {},
   "outputs": [],
   "source": [
    "# Load JSON data (replace 'data.json' with the actual file path)\n",
    "with open(\"trials.json\", \"r\", encoding=\"utf-8\") as file:\n",
    "    json_data = json.load(file)"
   ]
  },
  {
   "cell_type": "code",
   "execution_count": 11,
   "id": "adcd0439-75d0-487b-b46d-9c0d6fc24e47",
   "metadata": {},
   "outputs": [],
   "source": [
    "df = pd.DataFrame([{\n",
    "    \"RCT_ID\": item.get(\"RCT ID\", None),\n",
    "    \"Title\": item.get(\"Title\", None),\n",
    "    \"Status\": item.get(\"Status\", None),\n",
    "    \"Start_Date\": item.get(\"Start date\", None),\n",
    "    \"End_Date\": item.get(\"End date\", None),\n",
    "    \"Country\": \", \".join([c[\"Country\"] if isinstance(c, dict) else str(c) for c in item.get(\"Countries\", [])]) if \"Countries\" in item else None,\n",
    "    \"Region\": \", \".join([c[\"Region\"] if isinstance(c, dict) and isinstance(c[\"Region\"], str) else str(c[\"Region\"]) if isinstance(c[\"Region\"], list) else \"\" for c in item.get(\"Countries\", [])]) if \"Countries\" in item else None,\n",
    "    \"PI_Name\": item.get(\"Primary PI\", {}).get(\"Name\", None),\n",
    "    \"PI_Affiliation\": item.get(\"Primary PI\", {}).get(\"Affiliation\", None),\n",
    "    \"Keywords\": \", \".join(item.get(\"Keywords\", [])) if item.get(\"Keywords\") else None,\n",
    "    \"Additional_Keywords\": \", \".join(item.get(\"Additional Keywords\", [])) if item.get(\"Additional Keywords\") else None,\n",
    "    \"JEL_Codes\": \", \".join(item.get(\"JEL code(s)\", [])) if item.get(\"JEL code(s)\") else None,\n",
    "    \"Secondary_IDs\": \", \".join(item.get(\"Secondary IDs\", [])) if item.get(\"Secondary IDs\") else None,\n",
    "    \"Abstract\": item.get(\"Abstract\", None),\n",
    "    \"External_Links\": \", \".join(item.get(\"External Link(s)\", {}).get(\"Link\", [])) if isinstance(item.get(\"External Link(s)\"), dict) else None,\n",
    "    \"Citation\": item.get(\"Citation\", None),\n",
    "    \"Former_Citation\": item.get(\"Former Citation\", None),\n",
    "    \"Intervention\": item.get(\"Intervention(s)\", None),\n",
    "    \"Intervention_Hidden\": item.get(\"Intervention (Hidden)\", None),\n",
    "    \"Intervention_Start_Date\": item.get(\"Intervention Start Date\", None),\n",
    "    \"Intervention_End_Date\": item.get(\"Intervention End Date\", None),\n",
    "    \"Primary_Outcomes\": \", \".join(item.get(\"Primary Outcomes (end points)\", [])) if item.get(\"Primary Outcomes (end points)\") else None,\n",
    "    \"Primary_Outcomes_Explanation\": item.get(\"Primary Outcomes (explanation)\", None),\n",
    "    \"Secondary_Outcomes\": \", \".join(item.get(\"Secondary Outcomes (end points)\", [])) if item.get(\"Secondary Outcomes (end points)\") else None,\n",
    "    \"Secondary_Outcomes_Explanation\": item.get(\"Secondary Outcomes (explanation)\", None),\n",
    "    \"Experimental_Design\": item.get(\"Experimental Design\", None),\n",
    "    \"Experimental_Design_Details\": item.get(\"Experimental Design Details\", None),\n",
    "    \"Randomization_Method\": item.get(\"Randomization Method\", None),\n",
    "    \"Randomization_Unit\": item.get(\"Randomization Unit\", None),\n",
    "    \"Treatment_Clustered\": item.get(\"Was the treatment clustered?\", None),\n",
    "    \"Planned_Clusters\": item.get(\"Sample size: planned number of clusters\", None),\n",
    "    \"Planned_Observations\": item.get(\"Sample size: planned number of observations\", None),\n",
    "    \"Sample_By_Treatment_Arms\": item.get(\"Sample size (or number of clusters) by treatment arms\", None),\n",
    "    \"Minimum_Detectable_Effect\": item.get(\"Minimum detectable effect size for main outcomes (accounting for sampledesign and clustering)\", None),\n",
    "    \"Intervention_Completed\": item.get(\"Is the intervention completed?\", None),\n",
    "    \"Data_Collection_Complete\": item.get(\"Data Collection Complete\", None),\n",
    "    \"Public_Data_Available\": item.get(\"Is public data available?\", None),\n",
    "    \"Program_Files\": item.get(\"Program Files\", None)\n",
    "} for item in json_data.values()])\n",
    "\n",
    "# Extract multiple investigators separately\n",
    "df_pis = pd.concat([\n",
    "    pd.DataFrame({\n",
    "        \"RCT_ID\": item.get(\"RCT ID\", None),\n",
    "        \"PI_Name\": [pi.get(\"Name\", None) for pi in item.get(\"Other Primary Investigators\", [])],\n",
    "        \"PI_Affiliation\": [pi.get(\"Affiliation\", None) for pi in item.get(\"Other Primary Investigators\", [])]\n",
    "    }) for item in json_data.values() if \"Other Primary Investigators\" in item\n",
    "], ignore_index=True)\n",
    "\n",
    "# Extract IRB approvals separately\n",
    "df_irbs = pd.concat([\n",
    "    pd.DataFrame({\n",
    "        \"RCT_ID\": item.get(\"RCT ID\", None),\n",
    "        \"IRB_Name\": [irb.get(\"Name\", None) for irb in item.get(\"IRBs\", [])],\n",
    "        \"IRB_Approval_Date\": [irb.get(\"Approval Date\", None) for irb in item.get(\"IRBs\", [])],\n",
    "        \"IRB_Approval_Number\": [irb.get(\"Approval Number\", None) for irb in item.get(\"IRBs\", [])]\n",
    "    }) for item in json_data.values() if \"IRBs\" in item\n",
    "], ignore_index=True)"
   ]
  },
  {
   "cell_type": "code",
   "execution_count": 12,
   "id": "1eee6099-c06d-4e0f-889b-bcfe057ccff0",
   "metadata": {},
   "outputs": [
    {
     "data": {
      "text/plain": [
       "Index(['RCT_ID', 'Title', 'Status', 'Start_Date', 'End_Date', 'Country',\n",
       "       'Region', 'PI_Name', 'PI_Affiliation', 'Keywords',\n",
       "       'Additional_Keywords', 'JEL_Codes', 'Secondary_IDs', 'Abstract',\n",
       "       'External_Links', 'Citation', 'Former_Citation', 'Intervention',\n",
       "       'Intervention_Hidden', 'Intervention_Start_Date',\n",
       "       'Intervention_End_Date', 'Primary_Outcomes',\n",
       "       'Primary_Outcomes_Explanation', 'Secondary_Outcomes',\n",
       "       'Secondary_Outcomes_Explanation', 'Experimental_Design',\n",
       "       'Experimental_Design_Details', 'Randomization_Method',\n",
       "       'Randomization_Unit', 'Treatment_Clustered', 'Planned_Clusters',\n",
       "       'Planned_Observations', 'Sample_By_Treatment_Arms',\n",
       "       'Minimum_Detectable_Effect', 'Intervention_Completed',\n",
       "       'Data_Collection_Complete', 'Public_Data_Available', 'Program_Files'],\n",
       "      dtype='object')"
      ]
     },
     "execution_count": 12,
     "metadata": {},
     "output_type": "execute_result"
    }
   ],
   "source": [
    "df.columns"
   ]
  },
  {
   "cell_type": "code",
   "execution_count": 13,
   "id": "ab9cd5f7-4e34-4b84-a200-c145d8c0002a",
   "metadata": {},
   "outputs": [
    {
     "data": {
      "text/plain": [
       "Country\n",
       "United States of America                                       2014\n",
       "Germany                                                         711\n",
       "India                                                           531\n",
       "China                                                           350\n",
       "United Kingdom of Great Britain and Northern Ireland            281\n",
       "                                                               ... \n",
       "Azerbaijan                                                        1\n",
       "India, Norway                                                     1\n",
       "Germany, Denmark, Estonia, Spain, Finland, Italy, Lithuania       1\n",
       "Serbia, Turkey, Ukraine                                           1\n",
       "Netherlands, United States of America                             1\n",
       "Name: count, Length: 498, dtype: int64"
      ]
     },
     "execution_count": 13,
     "metadata": {},
     "output_type": "execute_result"
    }
   ],
   "source": [
    "df['Country'].value_counts()"
   ]
  },
  {
   "cell_type": "code",
   "execution_count": 14,
   "id": "ed628665-9a3c-4575-bfec-4b3c8de2d224",
   "metadata": {},
   "outputs": [
    {
     "data": {
      "text/plain": [
       "0                                                      N/A\n",
       "1                                24 clusters per study arm\n",
       "2        98 school campuses control, 93 school campuses...\n",
       "3                   69 treatment blocks,127 control blocks\n",
       "4        2821 individuals free DFS,  3224 individuals n...\n",
       "                               ...                        \n",
       "10051    1,900 control, 744 ESG messages, 736 E message...\n",
       "10052                                                    \\\n",
       "10053                                                   76\n",
       "10054    The number of participants for each round is a...\n",
       "10055          750 students per group (treatment, control)\n",
       "Name: Sample_By_Treatment_Arms, Length: 10056, dtype: object"
      ]
     },
     "execution_count": 14,
     "metadata": {},
     "output_type": "execute_result"
    }
   ],
   "source": [
    "df['Sample_By_Treatment_Arms']"
   ]
  },
  {
   "cell_type": "code",
   "execution_count": 17,
   "id": "f226a2c4-8fba-4ed1-b01b-c953796f298e",
   "metadata": {},
   "outputs": [
    {
     "name": "stdout",
     "output_type": "stream",
     "text": [
      "6294 uncoded rows remaining.\n",
      "Row: RCT_ID = AEARCTR-0000096\n",
      "Planned Observations: 4,572 households\n"
     ]
    },
    {
     "name": "stdin",
     "output_type": "stream",
     "text": [
      "Enter sample size (or NA to skip, -1 to quit):  -1\n"
     ]
    },
    {
     "name": "stdout",
     "output_type": "stream",
     "text": [
      "Exiting.\n",
      "✅ Processing complete!\n"
     ]
    }
   ],
   "source": [
    "# Load the dataset\n",
    "DATA_FILE = \"trials.csv\"\n",
    "df = pd.read_csv(DATA_FILE)\n",
    "\n",
    "def extract_numeric_value(text):\n",
    "    \"\"\"Extracts a single numeric value from text if it contains 3 or fewer words and one number.\"\"\"\n",
    "    words = text.split()\n",
    "    numbers = re.findall(r'\\d+', text)\n",
    "    \n",
    "    if len(words) <= 3 and len(numbers) == 1:\n",
    "        return int(numbers[0])\n",
    "    return None\n",
    "\n",
    "# Pre-fill sample_size where possible\n",
    "def auto_fill_sample_sizes():\n",
    "    global df\n",
    "    df.loc[df[\"sample_size\"].isna(), \"sample_size\"] = df[\"Planned_Observations\"].apply(lambda x: extract_numeric_value(str(x)))\n",
    "    df.to_csv(DATA_FILE, index=False)\n",
    "    print(\"✅ Auto-filled sample sizes where applicable.\")\n",
    "\n",
    "def process_data():\n",
    "    global df  # Ensure we're modifying the global dataframe\n",
    "    \n",
    "    if \"sample_size\" not in df.columns:\n",
    "        df[\"sample_size\"] = None  # Initialize column\n",
    "    \n",
    "    auto_fill_sample_sizes()  # Apply auto-fill before manual entry\n",
    "    \n",
    "    row_idx = 0  # Track the current index dynamically\n",
    "    \n",
    "    while row_idx < len(df):  # Loop through all rows\n",
    "        df_uncoded = df[df[\"sample_size\"].isna()].copy()  # Refresh uncoded rows\n",
    "        \n",
    "        if df_uncoded.empty:\n",
    "            print(\"No uncoded rows left!\")\n",
    "            break\n",
    "\n",
    "        # Select the first uncoded row dynamically\n",
    "        row = df_uncoded.iloc[0]\n",
    "        planned_obs = str(row[\"Planned_Observations\"])\n",
    "        \n",
    "        # Display row information\n",
    "        clear_output(wait=True)\n",
    "        print(f\"{len(df_uncoded)} uncoded rows remaining.\")\n",
    "        print(f\"Row: RCT_ID = {row['RCT_ID']}\")\n",
    "        print(f\"Planned Observations: {planned_obs}\")\n",
    "        \n",
    "        # Get input for sample size\n",
    "        try:\n",
    "            time.sleep(0.2)  # Small delay to stabilize input rendering\n",
    "            sample_size = input(\"Enter sample size (or NA to skip, -1 to quit): \").strip()\n",
    "            \n",
    "            if sample_size == \"-1\":\n",
    "                print(\"Exiting.\")\n",
    "                break\n",
    "            \n",
    "            if sample_size.upper() == \"NA\":\n",
    "                df.loc[df[\"RCT_ID\"] == row[\"RCT_ID\"], \"sample_size\"] = \"NA\"\n",
    "            else:\n",
    "                sample_size = int(sample_size)  # Ensure integer input\n",
    "                df.loc[df[\"RCT_ID\"] == row[\"RCT_ID\"], \"sample_size\"] = sample_size\n",
    "            \n",
    "            # Save updated dataframe\n",
    "            df.to_csv(DATA_FILE, index=False)\n",
    "            \n",
    "            print(f\"Saved sample size {sample_size} for RCT_ID {row['RCT_ID']}\")\n",
    "            time.sleep(0.5)  # Small pause to avoid rapid display changes\n",
    "            row_idx += 1  # Move to next row\n",
    "\n",
    "        except ValueError:\n",
    "            print(\"❌ Please enter a valid integer or 'NA'.\")\n",
    "            time.sleep(0.5)  # Allow user to re-enter without clearing screen\n",
    "\n",
    "    print(\"✅ Processing complete!\")\n",
    "\n",
    "# Run the function\n",
    "process_data()"
   ]
  },
  {
   "cell_type": "code",
   "execution_count": 29,
   "id": "e41114e3-83ec-48fa-8894-366286169eef",
   "metadata": {},
   "outputs": [
    {
     "data": {
      "text/plain": [
       "count       3754.0\n",
       "mean        4236.0\n",
       "std        88483.0\n",
       "min            1.0\n",
       "25%          400.0\n",
       "50%          900.0\n",
       "75%         2000.0\n",
       "max      5000000.0\n",
       "Name: sample_size, dtype: float64"
      ]
     },
     "execution_count": 29,
     "metadata": {},
     "output_type": "execute_result"
    }
   ],
   "source": [
    "filtered_df = pd.to_numeric(df[\"sample_size\"], errors=\"coerce\").dropna()\n",
    "filtered_df[filtered_df > 0].describe().round()"
   ]
  },
  {
   "cell_type": "code",
   "execution_count": null,
   "id": "74870b3e-47f4-431d-9790-3203c4dffda1",
   "metadata": {},
   "outputs": [],
   "source": []
  }
 ],
 "metadata": {
  "kernelspec": {
   "display_name": "Python 3.11 (Data Science)",
   "language": "python",
   "name": "py311ds"
  },
  "language_info": {
   "codemirror_mode": {
    "name": "ipython",
    "version": 3
   },
   "file_extension": ".py",
   "mimetype": "text/x-python",
   "name": "python",
   "nbconvert_exporter": "python",
   "pygments_lexer": "ipython3",
   "version": "3.11.11"
  }
 },
 "nbformat": 4,
 "nbformat_minor": 5
}
